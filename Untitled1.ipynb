{
 "cells": [
  {
   "cell_type": "markdown",
   "id": "9bceba13",
   "metadata": {},
   "source": [
    "## Day 3"
   ]
  },
  {
   "cell_type": "code",
   "execution_count": 1,
   "id": "24e57650",
   "metadata": {},
   "outputs": [],
   "source": [
    "perm  = [98,74,52,16,23,22,54,21,9]\n"
   ]
  },
  {
   "cell_type": "code",
   "execution_count": 2,
   "id": "ae30e4c4",
   "metadata": {},
   "outputs": [
    {
     "data": {
      "text/plain": [
       "[98, 74, 52, 16, 23, 22, 54, 21, 9]"
      ]
     },
     "execution_count": 2,
     "metadata": {},
     "output_type": "execute_result"
    }
   ],
   "source": [
    "perm"
   ]
  },
  {
   "cell_type": "code",
   "execution_count": 3,
   "id": "b242e154",
   "metadata": {},
   "outputs": [
    {
     "data": {
      "text/plain": [
       "list"
      ]
     },
     "execution_count": 3,
     "metadata": {},
     "output_type": "execute_result"
    }
   ],
   "source": [
    "type(perm)"
   ]
  },
  {
   "cell_type": "code",
   "execution_count": 4,
   "id": "a991ef2f",
   "metadata": {},
   "outputs": [],
   "source": [
    "li = [43,52,88,'concentration',False,6.7,[21,43,444,32,'str'],'jfdj']"
   ]
  },
  {
   "cell_type": "code",
   "execution_count": 5,
   "id": "4a721223",
   "metadata": {},
   "outputs": [
    {
     "data": {
      "text/plain": [
       "[43, 52, 88, 'concentration', False, 6.7, [21, 43, 444, 32, 'str'], 'jfdj']"
      ]
     },
     "execution_count": 5,
     "metadata": {},
     "output_type": "execute_result"
    }
   ],
   "source": [
    "li"
   ]
  },
  {
   "cell_type": "code",
   "execution_count": 6,
   "id": "47b1c738",
   "metadata": {},
   "outputs": [
    {
     "data": {
      "text/plain": [
       "list"
      ]
     },
     "execution_count": 6,
     "metadata": {},
     "output_type": "execute_result"
    }
   ],
   "source": [
    "type(li)"
   ]
  },
  {
   "cell_type": "code",
   "execution_count": 7,
   "id": "77cfd353",
   "metadata": {},
   "outputs": [
    {
     "data": {
      "text/plain": [
       "[98, 74, 52, 16, 23, 22, 54, 21, 9]"
      ]
     },
     "execution_count": 7,
     "metadata": {},
     "output_type": "execute_result"
    }
   ],
   "source": [
    "perm"
   ]
  },
  {
   "cell_type": "code",
   "execution_count": 8,
   "id": "53580369",
   "metadata": {},
   "outputs": [
    {
     "data": {
      "text/plain": [
       "23"
      ]
     },
     "execution_count": 8,
     "metadata": {},
     "output_type": "execute_result"
    }
   ],
   "source": [
    "perm[4]"
   ]
  },
  {
   "cell_type": "code",
   "execution_count": 9,
   "id": "35604807",
   "metadata": {},
   "outputs": [
    {
     "ename": "TypeError",
     "evalue": "'int' object is not subscriptable",
     "output_type": "error",
     "traceback": [
      "\u001b[1;31m---------------------------------------------------------------------------\u001b[0m",
      "\u001b[1;31mTypeError\u001b[0m                                 Traceback (most recent call last)",
      "Cell \u001b[1;32mIn[9], line 1\u001b[0m\n\u001b[1;32m----> 1\u001b[0m perm[\u001b[38;5;241m4\u001b[39m][\u001b[38;5;241m3\u001b[39m]\n",
      "\u001b[1;31mTypeError\u001b[0m: 'int' object is not subscriptable"
     ]
    }
   ],
   "source": [
    "perm[4][3]"
   ]
  },
  {
   "cell_type": "code",
   "execution_count": 10,
   "id": "38ce7437",
   "metadata": {},
   "outputs": [
    {
     "data": {
      "text/plain": [
       "[98, 74, 52, 16, 23, 22, 54, 21, 9]"
      ]
     },
     "execution_count": 10,
     "metadata": {},
     "output_type": "execute_result"
    }
   ],
   "source": [
    "perm[0::1]"
   ]
  },
  {
   "cell_type": "code",
   "execution_count": 11,
   "id": "030d406d",
   "metadata": {},
   "outputs": [
    {
     "data": {
      "text/plain": [
       "[52, 16, 23, 22, 54]"
      ]
     },
     "execution_count": 11,
     "metadata": {},
     "output_type": "execute_result"
    }
   ],
   "source": [
    "perm[2:7:1]"
   ]
  },
  {
   "cell_type": "code",
   "execution_count": 13,
   "id": "aa23bde1",
   "metadata": {},
   "outputs": [
    {
     "data": {
      "text/plain": [
       "[9, 21, 54, 22, 23, 16, 52, 74, 98]"
      ]
     },
     "execution_count": 13,
     "metadata": {},
     "output_type": "execute_result"
    }
   ],
   "source": [
    "perm[-1::-1]"
   ]
  },
  {
   "cell_type": "code",
   "execution_count": 14,
   "id": "9d0ee606",
   "metadata": {},
   "outputs": [
    {
     "data": {
      "text/plain": [
       "list"
      ]
     },
     "execution_count": 14,
     "metadata": {},
     "output_type": "execute_result"
    }
   ],
   "source": [
    "type(li[6])"
   ]
  },
  {
   "cell_type": "code",
   "execution_count": 15,
   "id": "05c04792",
   "metadata": {},
   "outputs": [
    {
     "data": {
      "text/plain": [
       "int"
      ]
     },
     "execution_count": 15,
     "metadata": {},
     "output_type": "execute_result"
    }
   ],
   "source": [
    "type(li[6][3])"
   ]
  },
  {
   "cell_type": "code",
   "execution_count": 16,
   "id": "c82bc5fd",
   "metadata": {},
   "outputs": [
    {
     "data": {
      "text/plain": [
       "[43, 52, 88, 'concentration', False, 6.7, [21, 43, 444, 32, 'str'], 'jfdj']"
      ]
     },
     "execution_count": 16,
     "metadata": {},
     "output_type": "execute_result"
    }
   ],
   "source": [
    "li"
   ]
  },
  {
   "cell_type": "code",
   "execution_count": 20,
   "id": "2bf5d151",
   "metadata": {},
   "outputs": [
    {
     "data": {
      "text/plain": [
       "True"
      ]
     },
     "execution_count": 20,
     "metadata": {},
     "output_type": "execute_result"
    }
   ],
   "source": [
    "li[3]==li[-5]"
   ]
  },
  {
   "cell_type": "code",
   "execution_count": 18,
   "id": "7b3976d9",
   "metadata": {},
   "outputs": [
    {
     "data": {
      "text/plain": [
       "'concentration'"
      ]
     },
     "execution_count": 18,
     "metadata": {},
     "output_type": "execute_result"
    }
   ],
   "source": [
    "li[3]"
   ]
  },
  {
   "cell_type": "code",
   "execution_count": 19,
   "id": "64cf112a",
   "metadata": {},
   "outputs": [
    {
     "data": {
      "text/plain": [
       "43"
      ]
     },
     "execution_count": 19,
     "metadata": {},
     "output_type": "execute_result"
    }
   ],
   "source": [
    "li[-8]"
   ]
  },
  {
   "cell_type": "code",
   "execution_count": 21,
   "id": "ba38b356",
   "metadata": {},
   "outputs": [
    {
     "data": {
      "text/plain": [
       "'concentration'"
      ]
     },
     "execution_count": 21,
     "metadata": {},
     "output_type": "execute_result"
    }
   ],
   "source": [
    "li[-5]"
   ]
  },
  {
   "cell_type": "code",
   "execution_count": 22,
   "id": "edb6dd8c",
   "metadata": {},
   "outputs": [
    {
     "data": {
      "text/plain": [
       "[98, 74, 52, 16, 23, 22, 54, 21, 9]"
      ]
     },
     "execution_count": 22,
     "metadata": {},
     "output_type": "execute_result"
    }
   ],
   "source": [
    "perm"
   ]
  },
  {
   "cell_type": "code",
   "execution_count": 23,
   "id": "38690777",
   "metadata": {},
   "outputs": [
    {
     "data": {
      "text/plain": [
       "int"
      ]
     },
     "execution_count": 23,
     "metadata": {},
     "output_type": "execute_result"
    }
   ],
   "source": [
    "type(perm[3])"
   ]
  },
  {
   "cell_type": "code",
   "execution_count": 24,
   "id": "01ffd1cf",
   "metadata": {},
   "outputs": [
    {
     "data": {
      "text/plain": [
       "[98, 52, 23, 54, 9]"
      ]
     },
     "execution_count": 24,
     "metadata": {},
     "output_type": "execute_result"
    }
   ],
   "source": [
    "perm[0::2]"
   ]
  },
  {
   "cell_type": "code",
   "execution_count": 25,
   "id": "fdad82ec",
   "metadata": {},
   "outputs": [
    {
     "data": {
      "text/plain": [
       "[98, 74, 52, 16, 23, 22, 54, 21, 9]"
      ]
     },
     "execution_count": 25,
     "metadata": {},
     "output_type": "execute_result"
    }
   ],
   "source": [
    "perm"
   ]
  },
  {
   "cell_type": "code",
   "execution_count": 26,
   "id": "0437b517",
   "metadata": {},
   "outputs": [],
   "source": [
    "perm[4]=65"
   ]
  },
  {
   "cell_type": "code",
   "execution_count": 27,
   "id": "296e9099",
   "metadata": {},
   "outputs": [
    {
     "data": {
      "text/plain": [
       "[98, 74, 52, 16, 65, 22, 54, 21, 9]"
      ]
     },
     "execution_count": 27,
     "metadata": {},
     "output_type": "execute_result"
    }
   ],
   "source": [
    "perm"
   ]
  },
  {
   "cell_type": "code",
   "execution_count": 28,
   "id": "084d656c",
   "metadata": {},
   "outputs": [],
   "source": [
    "perm[3]=99"
   ]
  },
  {
   "cell_type": "code",
   "execution_count": 29,
   "id": "31c61bd6",
   "metadata": {},
   "outputs": [
    {
     "data": {
      "text/plain": [
       "[98, 74, 52, 99, 65, 22, 54, 21, 9]"
      ]
     },
     "execution_count": 29,
     "metadata": {},
     "output_type": "execute_result"
    }
   ],
   "source": [
    "perm"
   ]
  },
  {
   "cell_type": "code",
   "execution_count": 30,
   "id": "5062c7ae",
   "metadata": {},
   "outputs": [],
   "source": [
    "perm[2]=41"
   ]
  },
  {
   "cell_type": "code",
   "execution_count": 31,
   "id": "bebfc477",
   "metadata": {},
   "outputs": [
    {
     "data": {
      "text/plain": [
       "[98, 74, 41, 99, 65, 22, 54, 21, 9]"
      ]
     },
     "execution_count": 31,
     "metadata": {},
     "output_type": "execute_result"
    }
   ],
   "source": [
    "perm"
   ]
  },
  {
   "cell_type": "code",
   "execution_count": 32,
   "id": "8a814bae",
   "metadata": {},
   "outputs": [],
   "source": [
    "perm[1]=58"
   ]
  },
  {
   "cell_type": "code",
   "execution_count": 33,
   "id": "f29cc734",
   "metadata": {},
   "outputs": [
    {
     "data": {
      "text/plain": [
       "[98, 58, 41, 99, 65, 22, 54, 21, 9]"
      ]
     },
     "execution_count": 33,
     "metadata": {},
     "output_type": "execute_result"
    }
   ],
   "source": [
    "perm"
   ]
  },
  {
   "cell_type": "code",
   "execution_count": 34,
   "id": "a688de34",
   "metadata": {},
   "outputs": [],
   "source": [
    "perm[0]=22"
   ]
  },
  {
   "cell_type": "code",
   "execution_count": 35,
   "id": "2d28a3b1",
   "metadata": {},
   "outputs": [
    {
     "data": {
      "text/plain": [
       "[22, 58, 41, 99, 65, 22, 54, 21, 9]"
      ]
     },
     "execution_count": 35,
     "metadata": {},
     "output_type": "execute_result"
    }
   ],
   "source": [
    "perm"
   ]
  },
  {
   "cell_type": "code",
   "execution_count": 36,
   "id": "19c358a1",
   "metadata": {},
   "outputs": [],
   "source": [
    "perm.append(104)"
   ]
  },
  {
   "cell_type": "code",
   "execution_count": 37,
   "id": "bc24ba0d",
   "metadata": {},
   "outputs": [
    {
     "data": {
      "text/plain": [
       "[22, 58, 41, 99, 65, 22, 54, 21, 9, 104]"
      ]
     },
     "execution_count": 37,
     "metadata": {},
     "output_type": "execute_result"
    }
   ],
   "source": [
    "perm"
   ]
  },
  {
   "cell_type": "code",
   "execution_count": 38,
   "id": "be9792e8",
   "metadata": {},
   "outputs": [
    {
     "data": {
      "text/plain": [
       "[22, 58, 41]"
      ]
     },
     "execution_count": 38,
     "metadata": {},
     "output_type": "execute_result"
    }
   ],
   "source": [
    "perm[:3]"
   ]
  },
  {
   "cell_type": "code",
   "execution_count": 40,
   "id": "b7a2e390",
   "metadata": {},
   "outputs": [
    {
     "data": {
      "text/plain": [
       "[104, 54, 99, 22]"
      ]
     },
     "execution_count": 40,
     "metadata": {},
     "output_type": "execute_result"
    }
   ],
   "source": [
    "perm[-1::-3]"
   ]
  },
  {
   "cell_type": "code",
   "execution_count": 41,
   "id": "097b0623",
   "metadata": {},
   "outputs": [
    {
     "data": {
      "text/plain": [
       "[41, 99, 65, 22]"
      ]
     },
     "execution_count": 41,
     "metadata": {},
     "output_type": "execute_result"
    }
   ],
   "source": [
    "perm[2:6:1]"
   ]
  },
  {
   "cell_type": "code",
   "execution_count": 42,
   "id": "e309e301",
   "metadata": {},
   "outputs": [
    {
     "data": {
      "text/plain": [
       "[104, 9, 21, 54, 22, 65, 99, 41, 58, 22]"
      ]
     },
     "execution_count": 42,
     "metadata": {},
     "output_type": "execute_result"
    }
   ],
   "source": [
    "perm[::-1]"
   ]
  },
  {
   "cell_type": "code",
   "execution_count": 43,
   "id": "786849e6",
   "metadata": {},
   "outputs": [
    {
     "data": {
      "text/plain": [
       "list"
      ]
     },
     "execution_count": 43,
     "metadata": {},
     "output_type": "execute_result"
    }
   ],
   "source": [
    "type(perm[2:6:1])"
   ]
  },
  {
   "cell_type": "code",
   "execution_count": 44,
   "id": "b99619f2",
   "metadata": {},
   "outputs": [
    {
     "data": {
      "text/plain": [
       "[43, 52, 88, 'concentration', False, 6.7, [21, 43, 444, 32, 'str'], 'jfdj']"
      ]
     },
     "execution_count": 44,
     "metadata": {},
     "output_type": "execute_result"
    }
   ],
   "source": [
    "li"
   ]
  },
  {
   "cell_type": "code",
   "execution_count": 45,
   "id": "470594e1",
   "metadata": {},
   "outputs": [
    {
     "data": {
      "text/plain": [
       "10"
      ]
     },
     "execution_count": 45,
     "metadata": {},
     "output_type": "execute_result"
    }
   ],
   "source": [
    "len(perm)"
   ]
  },
  {
   "cell_type": "code",
   "execution_count": 46,
   "id": "6b0cf83c",
   "metadata": {},
   "outputs": [
    {
     "data": {
      "text/plain": [
       "8"
      ]
     },
     "execution_count": 46,
     "metadata": {},
     "output_type": "execute_result"
    }
   ],
   "source": [
    "len(li)"
   ]
  },
  {
   "cell_type": "code",
   "execution_count": 47,
   "id": "8d82d2f4",
   "metadata": {},
   "outputs": [
    {
     "data": {
      "text/plain": [
       "5"
      ]
     },
     "execution_count": 47,
     "metadata": {},
     "output_type": "execute_result"
    }
   ],
   "source": [
    "len(li[6])"
   ]
  },
  {
   "cell_type": "code",
   "execution_count": 52,
   "id": "3993a9f6",
   "metadata": {},
   "outputs": [],
   "source": [
    "li = [41,34,23,'concentration',False,7.8,[34,999,74,[98355,245,'story',[\"leave me\"],345,34],3,'str'],'jfdj']\n"
   ]
  },
  {
   "cell_type": "code",
   "execution_count": 49,
   "id": "d3d9187e",
   "metadata": {},
   "outputs": [
    {
     "data": {
      "text/plain": [
       "'ghery'"
      ]
     },
     "execution_count": 49,
     "metadata": {},
     "output_type": "execute_result"
    }
   ],
   "source": [
    "li[6][3][2]"
   ]
  },
  {
   "cell_type": "code",
   "execution_count": 51,
   "id": "69970066",
   "metadata": {},
   "outputs": [
    {
     "data": {
      "text/plain": [
       "[34, 565, 74, [98695, 545, 'ghery', ['getme'], 345, 34], 3, 'str']"
      ]
     },
     "execution_count": 51,
     "metadata": {},
     "output_type": "execute_result"
    }
   ],
   "source": [
    "li[6]"
   ]
  },
  {
   "cell_type": "code",
   "execution_count": 53,
   "id": "078106e1",
   "metadata": {},
   "outputs": [
    {
     "data": {
      "text/plain": [
       "[41,\n",
       " 34,\n",
       " 23,\n",
       " 'concentration',\n",
       " False,\n",
       " 7.8,\n",
       " [34, 999, 74, [98355, 245, 'story', ['leave me'], 345, 34], 3, 'str'],\n",
       " 'jfdj']"
      ]
     },
     "execution_count": 53,
     "metadata": {},
     "output_type": "execute_result"
    }
   ],
   "source": [
    "li"
   ]
  },
  {
   "cell_type": "code",
   "execution_count": 54,
   "id": "a137e2d0",
   "metadata": {},
   "outputs": [
    {
     "data": {
      "text/plain": [
       "[34, 999, 74, [98355, 245, 'story', ['leave me'], 345, 34], 3, 'str']"
      ]
     },
     "execution_count": 54,
     "metadata": {},
     "output_type": "execute_result"
    }
   ],
   "source": [
    "li[6]"
   ]
  },
  {
   "cell_type": "code",
   "execution_count": 55,
   "id": "aae686fd",
   "metadata": {},
   "outputs": [
    {
     "data": {
      "text/plain": [
       "[98355, 245, 'story', ['leave me'], 345, 34]"
      ]
     },
     "execution_count": 55,
     "metadata": {},
     "output_type": "execute_result"
    }
   ],
   "source": [
    "li[6][3]"
   ]
  },
  {
   "cell_type": "code",
   "execution_count": 59,
   "id": "30c65d8d",
   "metadata": {},
   "outputs": [
    {
     "data": {
      "text/plain": [
       "[['leave me'], 98355]"
      ]
     },
     "execution_count": 59,
     "metadata": {},
     "output_type": "execute_result"
    }
   ],
   "source": [
    "li[6][3][3::-3]"
   ]
  },
  {
   "cell_type": "code",
   "execution_count": 60,
   "id": "a15584ab",
   "metadata": {},
   "outputs": [
    {
     "data": {
      "text/plain": [
       "list"
      ]
     },
     "execution_count": 60,
     "metadata": {},
     "output_type": "execute_result"
    }
   ],
   "source": [
    "type(li[6][3][3::-3])"
   ]
  },
  {
   "cell_type": "code",
   "execution_count": 61,
   "id": "20647c21",
   "metadata": {},
   "outputs": [
    {
     "data": {
      "text/plain": [
       "[41,\n",
       " 34,\n",
       " 23,\n",
       " 'concentration',\n",
       " False,\n",
       " 7.8,\n",
       " [34, 999, 74, [98355, 245, 'story', ['leave me'], 345, 34], 3, 'str'],\n",
       " 'jfdj']"
      ]
     },
     "execution_count": 61,
     "metadata": {},
     "output_type": "execute_result"
    }
   ],
   "source": [
    "li"
   ]
  },
  {
   "cell_type": "code",
   "execution_count": 62,
   "id": "e27144f5",
   "metadata": {},
   "outputs": [
    {
     "data": {
      "text/plain": [
       "'t'"
      ]
     },
     "execution_count": 62,
     "metadata": {},
     "output_type": "execute_result"
    }
   ],
   "source": [
    "li[3][6]"
   ]
  },
  {
   "cell_type": "code",
   "execution_count": 63,
   "id": "e5351ed6",
   "metadata": {},
   "outputs": [
    {
     "data": {
      "text/plain": [
       "'leave me'"
      ]
     },
     "execution_count": 63,
     "metadata": {},
     "output_type": "execute_result"
    }
   ],
   "source": [
    "li[6][3][3][0]"
   ]
  },
  {
   "cell_type": "code",
   "execution_count": 68,
   "id": "c596fa9b",
   "metadata": {},
   "outputs": [
    {
     "data": {
      "text/plain": [
       "[34, 345, ['leave me'], 'story', 245, 98355]"
      ]
     },
     "execution_count": 68,
     "metadata": {},
     "output_type": "execute_result"
    }
   ],
   "source": [
    "li[6][3][5::-1]"
   ]
  },
  {
   "cell_type": "code",
   "execution_count": null,
   "id": "7e7b7280",
   "metadata": {},
   "outputs": [],
   "source": []
  },
  {
   "cell_type": "code",
   "execution_count": null,
   "id": "3db31e85",
   "metadata": {},
   "outputs": [],
   "source": []
  }
 ],
 "metadata": {
  "kernelspec": {
   "display_name": "Python 3 (ipykernel)",
   "language": "python",
   "name": "python3"
  },
  "language_info": {
   "codemirror_mode": {
    "name": "ipython",
    "version": 3
   },
   "file_extension": ".py",
   "mimetype": "text/x-python",
   "name": "python",
   "nbconvert_exporter": "python",
   "pygments_lexer": "ipython3",
   "version": "3.11.4"
  }
 },
 "nbformat": 4,
 "nbformat_minor": 5
}
